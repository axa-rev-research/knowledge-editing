{
 "cells": [
  {
   "cell_type": "code",
   "execution_count": 2,
   "metadata": {},
   "outputs": [
    {
     "data": {
      "application/vnd.jupyter.widget-view+json": {
       "model_id": "816b438cd82a4bc381bc7ec43cefee3d",
       "version_major": 2,
       "version_minor": 0
      },
      "text/plain": [
       "VBox(children=(HTML(value='<center> <img\\nsrc=https://huggingface.co/front/assets/huggingface_logo-noborder.sv…"
      ]
     },
     "metadata": {},
     "output_type": "display_data"
    }
   ],
   "source": [
    "import transformers\n",
    "import torch\n",
    "from huggingface_hub import notebook_login\n",
    "import os\n",
    "from openai import AzureOpenAI\n",
    "import ast \n",
    "from tqdm import tqdm \n",
    "import numpy as np\n",
    "import json\n",
    "import ot\n",
    "notebook_login()\n",
    "import sys\n",
    "sys.path.append('../') \n",
    "from SAKE.distributions import *\n",
    "from SAKE.threshold import *\n",
    "from SAKE.edit import *"
   ]
  },
  {
   "cell_type": "code",
   "execution_count": 3,
   "metadata": {},
   "outputs": [
    {
     "name": "stdout",
     "output_type": "stream",
     "text": [
      "Using device: mps\n"
     ]
    }
   ],
   "source": [
    "if torch.backends.mps.is_available(): device = torch.device(\"mps\")\n",
    "else: device = torch.device(\"cuda:0\" if torch.cuda.is_available() else \"cpu\")\n",
    "\n",
    "print(f'Using device: {device}')"
   ]
  },
  {
   "cell_type": "code",
   "execution_count": 4,
   "metadata": {},
   "outputs": [],
   "source": [
    "import json\n",
    "\n",
    "with open('../data/cf/example.json') as f:\n",
    "    cf = json.load(f)\n",
    "\n",
    "# with open('../data/cf/counterfact.json') as f:\n",
    "#     cf = json.load(f)\n",
    "\n",
    "indexes = (0,5) # change if you want to do other edits"
   ]
  },
  {
   "cell_type": "code",
   "execution_count": 5,
   "metadata": {},
   "outputs": [
    {
     "name": "stderr",
     "output_type": "stream",
     "text": [
      "/Library/Frameworks/Python.framework/Versions/3.10/lib/python3.10/site-packages/transformers/generation/configuration_utils.py:777: UserWarning: `return_dict_in_generate` is NOT set to `True`, but `output_hidden_states` is. When `return_dict_in_generate` is not `True`, `output_hidden_states` is ignored.\n",
      "  warnings.warn(\n"
     ]
    }
   ],
   "source": [
    "from transformers import AutoTokenizer, AutoModelForCausalLM\n",
    "model_name = 'gpt2-xl'\n",
    "model = AutoModelForCausalLM.from_pretrained(model_name, output_hidden_states = True).to(device)\n",
    "tokenizer = AutoTokenizer.from_pretrained(model_name)"
   ]
  },
  {
   "cell_type": "code",
   "execution_count": 6,
   "metadata": {},
   "outputs": [
    {
     "name": "stderr",
     "output_type": "stream",
     "text": [
      "100%|██████████| 5/5 [00:03<00:00,  1.66it/s]\n"
     ]
    }
   ],
   "source": [
    "maps = []\n",
    "for i in tqdm(range(indexes[0], indexes[1])):\n",
    "    e = cf[i]\n",
    "    x = np.concatenate([e['forced_source_embs'], e['source_embs'], e['target_embs']])\n",
    "    x_source = x[:2*len(e['forced_source_embs'])]\n",
    "    x_target = x[2*len(e['forced_source_embs']):]\n",
    "    ot_linear = ot.da.LinearTransport(reg=1e-2)\n",
    "    ot_linear.fit(Xs=x_source, Xt=x_target)\n",
    "    maps.append(ot_linear)"
   ]
  },
  {
   "cell_type": "code",
   "execution_count": null,
   "metadata": {},
   "outputs": [],
   "source": [
    "magnitude = []\n",
    "prob_success = 0\n",
    "dI_a = 0\n",
    "dI_rev = 0\n",
    "for i in tqdm(range(150)):\n",
    "    # e = cf[i]\n",
    "    # x = np.concatenate([e['forced_source_embs'], e['source_embs'], e['target_embs'], e['target_embs']])\n",
    "    # x_source = x[:2*len(e['forced_source_embs'])]\n",
    "    # x_target = x[2*len(e['forced_source_embs']):]\n",
    "    # ot_linear = ot.da.LinearTransport(reg=1e-2)\n",
    "    # ot_linear.fit(Xs=x_source, Xt=x_target)\n",
    "    prompt = cf[i]['requested_rewrite']['prompt'].replace('{}', cf[i]['requested_rewrite']['subject'])\n",
    "    doubt = prompt + \" \" + cf[i]['requested_rewrite']['target_new']['str'] + \"??? No, it can't be, This contradicts my understanding. It is pretty clear that the answer to '\" +  prompt + \"' is something else. Rethink and give the correct answer:\"\n",
    "    input_ids = tokenizer(doubt, return_tensors=\"pt\").to('mps').input_ids\n",
    "    with torch.no_grad():\n",
    "        model.eval()\n",
    "        output = model(input_ids)\n",
    "\n",
    "    last_h = output.hidden_states[-1][:,-1:,:].view(-1).cpu()\n",
    "    pre_sim, max_index = hid_threshold(last_h, [source_mean_embs[i]], 1000, dist_type = \"euc\")\n",
    "\n",
    "    if max_index is not None:\n",
    "        # last_h = torch.tensor(ot_linear.transform(Xs=last_h), dtype = torch.float16)\n",
    "        last_h += torch.tensor(mean_diffs[i], dtype = torch.float16)\n",
    "        last_h = last_h.view(-1)\n",
    "    else:\n",
    "        last_h = output.hidden_states[-1][:,-1,:].cpu()\n",
    "    logits = torch.matmul(last_h, model.lm_head.weight.T.cpu())\n",
    "    next_token_probs = torch.softmax(logits, dim=-1)\n",
    "\n",
    "    if next_token_probs.shape[0] == 1:\n",
    "        next_token_probs = next_token_probs[0]\n",
    "        \n",
    "    new_object_token = cf[i]['requested_rewrite']['target_new']['str']\n",
    "    old_object_token = cf[i]['requested_rewrite']['target_true']['str']\n",
    "\n",
    "    next_token_id = torch.argmax(next_token_probs, dim = -1)\n",
    "    next_token = tokenizer.decode(next_token_id).strip()\n",
    "\n",
    "    if new_object_token.startswith(next_token) and next_token != \"\":\n",
    "        dI_a += 1\n",
    "\n",
    "    if old_object_token.startswith(next_token) and next_token != \"\":\n",
    "        dI_rev += 1\n",
    "        \n",
    "    if i % 10 == 0:\n",
    "        print(dI_a)"
   ]
  }
 ],
 "metadata": {
  "kernelspec": {
   "display_name": "Python 3",
   "language": "python",
   "name": "python3"
  },
  "language_info": {
   "codemirror_mode": {
    "name": "ipython",
    "version": 3
   },
   "file_extension": ".py",
   "mimetype": "text/x-python",
   "name": "python",
   "nbconvert_exporter": "python",
   "pygments_lexer": "ipython3",
   "version": "3.10.0"
  }
 },
 "nbformat": 4,
 "nbformat_minor": 2
}
